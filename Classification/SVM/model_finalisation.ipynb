{
 "metadata": {
  "language_info": {
   "codemirror_mode": {
    "name": "ipython",
    "version": 3
   },
   "file_extension": ".py",
   "mimetype": "text/x-python",
   "name": "python",
   "nbconvert_exporter": "python",
   "pygments_lexer": "ipython3",
   "version": "3.9.4"
  },
  "orig_nbformat": 2,
  "kernelspec": {
   "name": "python394jvsc74a57bd0dc35b9876508b1d2e1d46d593856ae8aa478e8b34d2a595b43b666b93debebc3",
   "display_name": "Python 3.9.4 64-bit"
  },
  "metadata": {
   "interpreter": {
    "hash": "dc35b9876508b1d2e1d46d593856ae8aa478e8b34d2a595b43b666b93debebc3"
   }
  }
 },
 "nbformat": 4,
 "nbformat_minor": 2,
 "cells": [
  {
   "cell_type": "code",
   "execution_count": 2,
   "metadata": {},
   "outputs": [],
   "source": [
    "import pandas as pd\n",
    "import numpy as np\n",
    "from sklearn import preprocessing\n",
    "from sklearn.svm import SVC\n",
    "from sklearn.metrics import f1_score,confusion_matrix,make_scorer\n",
    "from sklearn.model_selection import GridSearchCV, cross_val_score\n",
    "from sklearn.model_selection import cross_val_predict"
   ]
  },
  {
   "cell_type": "code",
   "execution_count": 5,
   "metadata": {},
   "outputs": [],
   "source": [
    "score_data=pd.read_csv('E:/Ramya/brushUps/Basics/ML using sklearn/Projects/Wine_quality/Classification/score_comparison.csv',delimiter=',')\n",
    "data=pd.read_csv('E:/Ramya/brushUps/Basics/ML using sklearn/Projects/Wine_quality/data/winequality-red.csv',delimiter=';')"
   ]
  },
  {
   "cell_type": "code",
   "execution_count": 7,
   "metadata": {},
   "outputs": [],
   "source": [
    "score_data.sort_values(by=['features_count','f1_score'],ascending=[True,False],inplace=True)"
   ]
  },
  {
   "cell_type": "code",
   "execution_count": 8,
   "metadata": {},
   "outputs": [
    {
     "output_type": "execute_result",
     "data": {
      "text/plain": [
       "                  model  features_count  f1_score  \\\n",
       "10                  SVM               2  0.772700   \n",
       "8                   SVM               3  0.760000   \n",
       "9                   SVM               3  0.745700   \n",
       "7                   SVM               4  0.793300   \n",
       "6                   SVM               6  0.780000   \n",
       "5                   SVM               7  0.758900   \n",
       "4                   SVM              10  0.797800   \n",
       "0                   SVM              11  0.797223   \n",
       "1   Logistic regression              11  0.795143   \n",
       "2                   KNN              11  0.778096   \n",
       "3         Decision Tree              11  0.737156   \n",
       "\n",
       "                                             features  \n",
       "10                                  alcohol,sulphates  \n",
       "8                volatile acidity, sulphates, alcohol  \n",
       "9                 fixed acidity, volatile acidity, pH  \n",
       "7   alcohol,sulphates,total sulfur dioxide,volatil...  \n",
       "6   fixed acidity, volatile acidity, citric acid, ...  \n",
       "5   fixed acidity, volatile acidity, residual suga...  \n",
       "4   fixed acidity, volatile acidity,citric acid,re...  \n",
       "0   fixed acidity, volatile acidity,citric acid,re...  \n",
       "1   fixed acidity, volatile acidity,citric acid,re...  \n",
       "2   fixed acidity, volatile acidity,citric acid,re...  \n",
       "3   fixed acidity, volatile acidity,citric acid,re...  "
      ],
      "text/html": "<div>\n<style scoped>\n    .dataframe tbody tr th:only-of-type {\n        vertical-align: middle;\n    }\n\n    .dataframe tbody tr th {\n        vertical-align: top;\n    }\n\n    .dataframe thead th {\n        text-align: right;\n    }\n</style>\n<table border=\"1\" class=\"dataframe\">\n  <thead>\n    <tr style=\"text-align: right;\">\n      <th></th>\n      <th>model</th>\n      <th>features_count</th>\n      <th>f1_score</th>\n      <th>features</th>\n    </tr>\n  </thead>\n  <tbody>\n    <tr>\n      <th>10</th>\n      <td>SVM</td>\n      <td>2</td>\n      <td>0.772700</td>\n      <td>alcohol,sulphates</td>\n    </tr>\n    <tr>\n      <th>8</th>\n      <td>SVM</td>\n      <td>3</td>\n      <td>0.760000</td>\n      <td>volatile acidity, sulphates, alcohol</td>\n    </tr>\n    <tr>\n      <th>9</th>\n      <td>SVM</td>\n      <td>3</td>\n      <td>0.745700</td>\n      <td>fixed acidity, volatile acidity, pH</td>\n    </tr>\n    <tr>\n      <th>7</th>\n      <td>SVM</td>\n      <td>4</td>\n      <td>0.793300</td>\n      <td>alcohol,sulphates,total sulfur dioxide,volatil...</td>\n    </tr>\n    <tr>\n      <th>6</th>\n      <td>SVM</td>\n      <td>6</td>\n      <td>0.780000</td>\n      <td>fixed acidity, volatile acidity, citric acid, ...</td>\n    </tr>\n    <tr>\n      <th>5</th>\n      <td>SVM</td>\n      <td>7</td>\n      <td>0.758900</td>\n      <td>fixed acidity, volatile acidity, residual suga...</td>\n    </tr>\n    <tr>\n      <th>4</th>\n      <td>SVM</td>\n      <td>10</td>\n      <td>0.797800</td>\n      <td>fixed acidity, volatile acidity,citric acid,re...</td>\n    </tr>\n    <tr>\n      <th>0</th>\n      <td>SVM</td>\n      <td>11</td>\n      <td>0.797223</td>\n      <td>fixed acidity, volatile acidity,citric acid,re...</td>\n    </tr>\n    <tr>\n      <th>1</th>\n      <td>Logistic regression</td>\n      <td>11</td>\n      <td>0.795143</td>\n      <td>fixed acidity, volatile acidity,citric acid,re...</td>\n    </tr>\n    <tr>\n      <th>2</th>\n      <td>KNN</td>\n      <td>11</td>\n      <td>0.778096</td>\n      <td>fixed acidity, volatile acidity,citric acid,re...</td>\n    </tr>\n    <tr>\n      <th>3</th>\n      <td>Decision Tree</td>\n      <td>11</td>\n      <td>0.737156</td>\n      <td>fixed acidity, volatile acidity,citric acid,re...</td>\n    </tr>\n  </tbody>\n</table>\n</div>"
     },
     "metadata": {},
     "execution_count": 8
    }
   ],
   "source": [
    "score_data"
   ]
  },
  {
   "cell_type": "code",
   "execution_count": null,
   "metadata": {},
   "outputs": [],
   "source": []
  }
 ]
}